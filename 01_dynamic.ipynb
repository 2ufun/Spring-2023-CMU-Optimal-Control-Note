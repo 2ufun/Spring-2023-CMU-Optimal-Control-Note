{
 "cells": [
  {
   "cell_type": "markdown",
   "metadata": {},
   "source": [
    "# 01. Dynamic\n",
    "\n",
    "本章主要介绍了最优控制的概览，对应国内《现代控制理论》中“状态空间法”的内容，并简单阐述了关于稳定性的判别。"
   ]
  }
 ],
 "metadata": {
  "language_info": {
   "name": "python"
  }
 },
 "nbformat": 4,
 "nbformat_minor": 2
}
