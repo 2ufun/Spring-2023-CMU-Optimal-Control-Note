{
 "cells": [
  {
   "cell_type": "markdown",
   "metadata": {},
   "source": [
    "# 02. Integrator\n",
    "\n",
    "本章主要讲述了连续系统的离散化问题，对应国内《计算机控制系统》课程中“差分法离散”的内容。"
   ]
  },
  {
   "cell_type": "code",
   "execution_count": null,
   "metadata": {},
   "outputs": [],
   "source": [
    "import numpy as np\n",
    "from typing import Callable, Tuple\n",
    "\n",
    "def pendulum_dynamics(x: np.ndarray) -> np.ndarray:\n",
    "    l = 1.0\n",
    "    g = 9.8\n",
    "\n",
    "    q = x[0]\n",
    "    v = x[1]\n",
    "\n",
    "    a = -(g / l) * np.sin(q)\n",
    "\n",
    "    return np.array([v, a])\n"
   ]
  },
  {
   "cell_type": "markdown",
   "metadata": {},
   "source": [
    "## 1. 前向差分法"
   ]
  },
  {
   "cell_type": "code",
   "execution_count": null,
   "metadata": {},
   "outputs": [],
   "source": [
    "import matplotlib.pyplot as plt\n",
    "\n",
    "def pendulum_forward_euler(\n",
    "        func: Callable[[np.ndarray], np.ndarray], \n",
    "        x0: np.ndarray, \n",
    "        Tf: float, \n",
    "        h: float) -> Tuple[np.ndarray, np.ndarray]:\n",
    "    \n",
    "    t = np.arange(0, Tf, h)\n",
    "\n",
    "    x_history = np.zeros((len(x0), len(t)))\n",
    "    x_history[:, 0] = x0\n",
    "\n",
    "    for k in range(len(t) - 1):\n",
    "        x_history[:, k + 1] = x_history[:, k] + h * func(x_history[:, k])\n",
    "    \n",
    "    return x_history, t\n",
    "\n",
    "x0 = np.array([0.1, 0])\n",
    "x_history, t = pendulum_forward_euler(pendulum_dynamics, x0, 50, 0.01)\n",
    "\n",
    "plt.plot(t, x_history[0, :])\n",
    "plt.grid(True)\n",
    "plt.show()\n"
   ]
  },
  {
   "cell_type": "code",
   "execution_count": null,
   "metadata": {},
   "outputs": [],
   "source": [
    "def pendulum_euler_Ad(x0: np.ndarray, h: float) -> np.ndarray:\n",
    "    l = 1.0\n",
    "    g = 9.8\n",
    "    Ad = np.array([[1, h], [-(g / l) * h * np.cos(x0[0]), 1]])\n",
    "    return Ad\n",
    "\n",
    "np.linalg.eigvals(pendulum_euler_Ad(np.array([0]), 0.01))"
   ]
  },
  {
   "cell_type": "code",
   "execution_count": null,
   "metadata": {},
   "outputs": [],
   "source": [
    "eignorm = np.zeros((100,))\n",
    "h = np.linspace(0, 0.1, 100)\n",
    "for k in range(len(eignorm)):\n",
    "    eigvals = np.linalg.eigvals(pendulum_euler_Ad(np.array([0]), h[k]))\n",
    "    eignorm[k] = np.linalg.norm(eigvals, ord=np.inf)\n",
    "\n",
    "plt.plot(h, eignorm)\n",
    "plt.grid(True)\n",
    "plt.show()"
   ]
  },
  {
   "cell_type": "markdown",
   "metadata": {},
   "source": [
    "## 2. 四阶Runge-Kutta近似"
   ]
  },
  {
   "cell_type": "code",
   "execution_count": null,
   "metadata": {},
   "outputs": [],
   "source": [
    "def fd_pendulum_rk4(xk: np.ndarray, h: float) -> np.ndarray:\n",
    "    f1 = pendulum_dynamics(xk)\n",
    "    f2 = pendulum_dynamics(xk + 0.5 * h * f1)\n",
    "    f3 = pendulum_dynamics(xk + 0.5 * h * f2)\n",
    "    f4 = pendulum_dynamics(xk + h * f3)\n",
    "    return xk + (h / 6.0) * (f1 + 2 * f2 + 2 * f3 + f4)\n",
    "\n",
    "\n",
    "def pendulum_rk4(x0: np.ndarray, Tf: float, h: float) -> Tuple[np.ndarray, np.ndarray]: \n",
    "    \n",
    "    t = np.arange(0, Tf, h)\n",
    "\n",
    "    x_history = np.zeros((len(x0), len(t)))\n",
    "    x_history[:, 0] = x0\n",
    "\n",
    "    for k in range(len(t) - 1):\n",
    "        x_history[:, k + 1] = fd_pendulum_rk4(x_history[:, k], h)\n",
    "    \n",
    "    return x_history, t\n",
    "\n",
    "\n",
    "x0 = np.array([0.1, 0])\n",
    "x_history, t = pendulum_rk4(x0, 10, 0.1)\n",
    "\n",
    "plt.plot(t, x_history[0,:])\n",
    "plt.grid(True)\n",
    "plt.show()\n"
   ]
  },
  {
   "cell_type": "code",
   "execution_count": null,
   "metadata": {},
   "outputs": [],
   "source": [
    "# 这里使用有限差分做近似梯度计算\n",
    "def forward_diff(\n",
    "        func: Callable[[np.ndarray, float], np.ndarray],\n",
    "        x: np.ndarray, \n",
    "        h: float) -> np.ndarray:\n",
    "    \n",
    "    eps = np.finfo(np.float64).eps\n",
    "    \n",
    "    x_copy = x.copy()\n",
    "    x_copy[0] += eps\n",
    "    d1 = (func(x_copy, h) - func(x, h)) / eps\n",
    "\n",
    "    x_copy[0] -= eps\n",
    "    x_copy[1] += eps\n",
    "    d2 = (func(x_copy, h) - func(x, h)) / eps\n",
    "\n",
    "    res = np.zeros((2, 2))\n",
    "    res[0, :] = d1\n",
    "    res[1, :] = d2\n",
    "\n",
    "    return res\n",
    "\n",
    "\n",
    "Ad = forward_diff(fd_pendulum_rk4, np.array([0.0, 0.0]), 0.1)\n",
    "np.linalg.norm(np.linalg.eigvals(Ad), ord=np.inf)\n"
   ]
  },
  {
   "cell_type": "code",
   "execution_count": null,
   "metadata": {},
   "outputs": [],
   "source": [
    "\n",
    "eignorm = np.zeros((100,))\n",
    "h = np.linspace(0, 1, 100)\n",
    "for k in range(len(eignorm)):\n",
    "    Ad = forward_diff(fd_pendulum_rk4, np.array([0.0, 0.0]), h[k])\n",
    "    eignorm[k] = np.linalg.norm(np.linalg.eigvals(Ad), ord=np.inf)\n",
    "\n",
    "plt.plot(h, eignorm)\n",
    "plt.grid(True)\n",
    "plt.show()\n"
   ]
  },
  {
   "cell_type": "markdown",
   "metadata": {},
   "source": [
    "## 3. 后向差分法"
   ]
  },
  {
   "cell_type": "code",
   "execution_count": null,
   "metadata": {},
   "outputs": [],
   "source": [
    "def pendulum_backward_euler(\n",
    "        func: Callable[[np.ndarray], np.ndarray], \n",
    "        x0: np.ndarray, \n",
    "        Tf: float, \n",
    "        dt: float) -> Tuple[np.ndarray, np.ndarray]:\n",
    "    t = np.arange(0, Tf, step=dt)\n",
    "    \n",
    "    x_history = np.zeros((len(x0), len(t)))\n",
    "    x_history[:, 0] = x0\n",
    "    \n",
    "    # 不动点法解方程\n",
    "    for k in range(len(t) - 1):\n",
    "        e = 1\n",
    "        x_history[:, k + 1] = x_history[:, k]\n",
    "        while e > 1e-8:\n",
    "            xn = x_history[:, k] + dt * func(x_history[:, k + 1])\n",
    "            e = np.linalg.norm(xn - x_history[:, k + 1], ord=np.inf)\n",
    "            x_history[:, k + 1] = xn\n",
    "    \n",
    "    return x_history, t\n",
    "\n",
    "x0 = np.array([0.1, 0])\n",
    "x_history, t = pendulum_backward_euler(pendulum_dynamics, x0, 10, 0.001)\n",
    "\n",
    "plt.plot(t, x_history[0, :])\n",
    "plt.grid(True)\n",
    "plt.show()\n"
   ]
  }
 ],
 "metadata": {
  "kernelspec": {
   "display_name": "nn",
   "language": "python",
   "name": "python3"
  },
  "language_info": {
   "codemirror_mode": {
    "name": "ipython",
    "version": 3
   },
   "file_extension": ".py",
   "mimetype": "text/x-python",
   "name": "python",
   "nbconvert_exporter": "python",
   "pygments_lexer": "ipython3",
   "version": "3.8.19"
  }
 },
 "nbformat": 4,
 "nbformat_minor": 2
}
