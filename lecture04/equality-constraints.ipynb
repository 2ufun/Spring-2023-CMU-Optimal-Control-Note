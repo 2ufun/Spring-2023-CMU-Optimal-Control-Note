{
 "cells": [
  {
   "cell_type": "code",
   "execution_count": null,
   "metadata": {},
   "outputs": [],
   "source": [
    "import numpy as np\n",
    "from typing import Callable, Tuple"
   ]
  },
  {
   "cell_type": "code",
   "execution_count": null,
   "metadata": {},
   "outputs": [],
   "source": [
    "Q = np.diag([0.5, 1])\n",
    "\n",
    "def f(x: np.ndarray) -> np.ndarray:\n",
    "    tmp = (x - np.array([[1.0], [0]]))\n",
    "    return 0.5 * tmp.T @ Q @ tmp\n",
    "\n",
    "def df(x: np.ndarray) -> np.ndarray:\n",
    "    return Q @ (x - np.array([[1.0], [0]]))\n",
    "\n",
    "def ddf(x: np.ndarray) -> np.ndarray:\n",
    "    return Q\n"
   ]
  },
  {
   "cell_type": "code",
   "execution_count": null,
   "metadata": {},
   "outputs": [],
   "source": [
    "def c(x: np.ndarray) -> float:\n",
    "    return x[0] ** 2 + 2 * x[0] - x[1]\n",
    "\n",
    "def dc(x: np.ndarray) -> np.ndarray:\n",
    "    return np.block([[2 * x[0] + 2, np.array([-1.0])]])\n"
   ]
  },
  {
   "cell_type": "code",
   "execution_count": null,
   "metadata": {},
   "outputs": [],
   "source": [
    "def forward_diff(\n",
    "        func: Callable[[np.ndarray], np.ndarray],\n",
    "        x: np.ndarray) -> np.ndarray:\n",
    "    \n",
    "    eps = np.finfo(np.float64).eps\n",
    "    eps = 1e-5\n",
    "\n",
    "    x_copy = x.copy()\n",
    "    x_copy[0] += eps\n",
    "    d1 = (func(x_copy) - func(x)) / eps\n",
    "\n",
    "    x_copy[0] -= eps\n",
    "    x_copy[1] += eps\n",
    "    d2 = (func(x_copy) - func(x)) / eps\n",
    "\n",
    "    return np.block([[d1, d2]])\n"
   ]
  },
  {
   "cell_type": "code",
   "execution_count": null,
   "metadata": {},
   "outputs": [],
   "source": [
    "def newtown_step(x0: np.ndarray, \n",
    "                 lambda0: np.ndarray) -> Tuple[np.ndarray, np.ndarray]:\n",
    "    H = ddf(x0) + forward_diff(lambda x: dc(x).T * lambda0, x0)\n",
    "    C = dc(x0)\n",
    "    tmp1 = -np.linalg.inv(np.block([[H, C.T], [C, np.array([0.0])]]))\n",
    "    tmp2 = np.block([[df(x0) + C.T @ lambda0], [c(x0)]])\n",
    "    dz = tmp1 @ tmp2\n",
    "    dx = dz[0:2]\n",
    "    dlambda = dz[2]\n",
    "    return x0 + dx, lambda0 + dlambda\n",
    "\n",
    "def newtown(x0: np.ndarray, \n",
    "            lambda0: np.ndarray, \n",
    "            step: int) -> Tuple[np.ndarray, np.ndarray]:\n",
    "    for _ in range(step):\n",
    "      x0, lambda0 = newtown_step(x0, lambda0)\n",
    "    return x0, lambda0\n"
   ]
  },
  {
   "cell_type": "code",
   "execution_count": null,
   "metadata": {},
   "outputs": [],
   "source": [
    "import matplotlib.pyplot as plt\n",
    "\n",
    "xguess = np.array([[-3.0], [2.0]])\n",
    "lambdaguess = np.array([[0.0]])\n",
    "xnew, lambdanew = newtown(xguess, lambdaguess, 10)\n",
    "\n",
    "plt.xlim((-4, 4))\n",
    "plt.ylim((-4, 4))\n",
    "xs = np.linspace(-4, 4)\n",
    "plt.plot(xs, xs ** 2 + 2 * xs)\n",
    "plt.scatter(xnew[0], xnew[1])\n",
    "plt.scatter(xguess[0], xguess[1])\n",
    "plt.grid(True)\n",
    "plt.show()\n",
    "\n"
   ]
  },
  {
   "cell_type": "code",
   "execution_count": null,
   "metadata": {},
   "outputs": [],
   "source": [
    "def gauss_newtown_step(x0: np.ndarray, \n",
    "                 lambda0: np.ndarray) -> Tuple[np.ndarray, np.ndarray]:\n",
    "    H = ddf(x0)\n",
    "    C = dc(x0)\n",
    "    tmp1 = -np.linalg.inv(np.block([[H, C.T], [C, np.array([0.0])]]))\n",
    "    tmp2 =  np.block([[df(x0) + C.T @ lambda0], [c(x0)]])\n",
    "    dz = tmp1 @ tmp2\n",
    "    dx = dz[0:2]\n",
    "    dlambda = dz[2]\n",
    "    return x0 + dx, lambda0 + dlambda\n",
    "\n",
    "def gauss_newtown(x0: np.ndarray, \n",
    "                  lambda0: np.ndarray, \n",
    "                  step: int) -> Tuple[np.ndarray, np.ndarray]:\n",
    "    for _ in range(step):\n",
    "      x0, lambda0 = gauss_newtown_step(x0, lambda0)\n",
    "    return x0, lambda0\n"
   ]
  },
  {
   "cell_type": "code",
   "execution_count": null,
   "metadata": {},
   "outputs": [],
   "source": [
    "xguess = np.array([[-3.0], [2.0]])\n",
    "lambdaguess = np.array([[0.0]])\n",
    "xnew, lambdanew = gauss_newtown(xguess, lambdaguess, 10)\n",
    "\n",
    "plt.xlim((-4, 4))\n",
    "plt.ylim((-4, 4))\n",
    "xs = np.linspace(-4, 4)\n",
    "plt.plot(xs, xs ** 2 + 2 * xs)\n",
    "plt.scatter(xnew[0], xnew[1])\n",
    "plt.scatter(xguess[0], xguess[1])\n",
    "plt.grid(True)\n",
    "plt.show()"
   ]
  }
 ],
 "metadata": {
  "kernelspec": {
   "display_name": "nn",
   "language": "python",
   "name": "python3"
  },
  "language_info": {
   "codemirror_mode": {
    "name": "ipython",
    "version": 3
   },
   "file_extension": ".py",
   "mimetype": "text/x-python",
   "name": "python",
   "nbconvert_exporter": "python",
   "pygments_lexer": "ipython3",
   "version": "3.8.19"
  }
 },
 "nbformat": 4,
 "nbformat_minor": 2
}
